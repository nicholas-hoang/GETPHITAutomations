{
 "cells": [
  {
   "cell_type": "code",
   "execution_count": 2,
   "metadata": {},
   "outputs": [],
   "source": [
    "# Modules: Email_Parser and PDF_Converter\n",
    "from email import policy\n",
    "from email.parser import BytesParser\n",
    "import glob\n",
    "import pdfkit\n",
    "import os\n",
    "from bs4 import BeautifulSoup\n",
    "import datetime \n",
    "from pathlib import Path\n",
    "\n",
    "# Modules: Registration List and Folder Creator\n",
    "import os \n",
    "import pdfquery\n",
    "import pandas as pd\n",
    "\n",
    "# Modules: Folder Creator \n",
    "import os\n",
    "import pandas as pd\n",
    "import numpy as np\n",
    "import shutil\n",
    "import pathlib\n",
    "import xlwings as xw\n"
   ]
  },
  {
   "cell_type": "code",
   "execution_count": 3,
   "metadata": {},
   "outputs": [],
   "source": [
    "# extract_file_url() is a function that takes in a list of .eml files.\n",
    "# It parses the .eml file, extracts the URL from the .eml file\n",
    "# and returns a dictionary with the file name as the key and the URL as the value\n",
    "\n",
    "def extract_file_url(student_file):\n",
    "    student_dict = dict()\n",
    "\n",
    "    # Iterate through the directory of .eml files\n",
    "    for student in student_file:\n",
    "\n",
    "        with open(student, 'rb') as fp:  \n",
    "            # Parse the email, get the link to the registration form.\n",
    "            msg = BytesParser(policy=policy.default).parse(fp)\n",
    "            text = msg.get_payload(decode=True)\n",
    "            soup = BeautifulSoup(text, 'html.parser')\n",
    "            registration_link = soup.find_all('a')[1].get('href')\n",
    "            student_dict[student] = [registration_link]\n",
    "\n",
    "            # Get the time the email was submitted, format the time. \n",
    "            time_submitted = msg['Received'].split(';')[1].strip()\n",
    "            time_submitted = datetime.datetime.strptime(time_submitted, '%a, %d %b %Y %H:%M:%S %z')\n",
    "            time_submitted = time_submitted.strftime('%m-%d-%Y %H:%M:%S')\n",
    "            student_dict[student].append(time_submitted)\n",
    "\n",
    "    return student_dict\n",
    "\n",
    "name = extract_file_url(glob.glob('*.eml'))"
   ]
  },
  {
   "cell_type": "code",
   "execution_count": 4,
   "metadata": {},
   "outputs": [
    {
     "name": "stdout",
     "output_type": "stream",
     "text": [
      "Done!\n",
      "A total of 9 pdfs were generated.\n"
     ]
    }
   ],
   "source": [
    "# get_pdf() is a function that takes in a dictionary of student names and their registration form URL.\n",
    "# It uses pdfkit to convert the URL to a PDF and saves the PDF in the same directory as the script.\n",
    "# TODO: Remove the .eml files after the PDFs have been generated.\n",
    "\n",
    "def get_pdf(student_dict):\n",
    "    \n",
    "    count = 0\n",
    "    \n",
    "    options = {'orientation': 'Landscape'}\n",
    "\n",
    "    for key, value in student_dict.items():\n",
    "        out_file = key + '.pdf'\n",
    "        pdfkit.from_url(value, out_file,options = options)\n",
    "        count +=1\n",
    "        \n",
    "    print('Done!')\n",
    "    print(f'A total of {count} pdfs were generated.')\n",
    "\n",
    "get_pdf(name)"
   ]
  },
  {
   "cell_type": "code",
   "execution_count": 5,
   "metadata": {},
   "outputs": [
    {
     "name": "stdout",
     "output_type": "stream",
     "text": [
      "Done!\n",
      "All PDFs have been moved to the Generated PDFs folder.\n"
     ]
    }
   ],
   "source": [
    "def move_pdf():\n",
    "\n",
    "    os.mkdir(\"Generated PDFs\")\n",
    "    for file in glob.glob(\"*.pdf\"):\n",
    "        os.rename(file, \"Generated PDFs/\" + file)\n",
    "    \n",
    "    print('Done!')\n",
    "    print('All PDFs have been moved to the Generated PDFs folder.')\n",
    "\n",
    "\n",
    "move_pdf()\n"
   ]
  },
  {
   "attachments": {},
   "cell_type": "markdown",
   "metadata": {},
   "source": [
    "At this point the following has been created: \n",
    "\n",
    "1) PDFs of Student Applications have been generated and saved locally. \n",
    "2) Information related to applications has been scraped loaded into xlsx file for further processing. \n"
   ]
  },
  {
   "cell_type": "code",
   "execution_count": 6,
   "metadata": {},
   "outputs": [],
   "source": [
    "def clean_dataframe(student_dictionary):\n",
    "    df = pd.DataFrame.from_dict(student_dictionary, orient ='index')\n",
    "    df = df.reset_index().rename(columns={'index':'Student Name', 0:'URL', 1:'Time Submitted'})\n",
    "    df = df.drop(columns =['URL'])\n",
    "    df['Student Name'] = df['Student Name'].str.replace('.eml', '', regex=True)\n",
    "\n",
    "    return df \n",
    "\n",
    "df = clean_dataframe(name)"
   ]
  },
  {
   "cell_type": "code",
   "execution_count": 7,
   "metadata": {},
   "outputs": [
    {
     "data": {
      "text/html": [
       "<div>\n",
       "<style scoped>\n",
       "    .dataframe tbody tr th:only-of-type {\n",
       "        vertical-align: middle;\n",
       "    }\n",
       "\n",
       "    .dataframe tbody tr th {\n",
       "        vertical-align: top;\n",
       "    }\n",
       "\n",
       "    .dataframe thead th {\n",
       "        text-align: right;\n",
       "    }\n",
       "</style>\n",
       "<table border=\"1\" class=\"dataframe\">\n",
       "  <thead>\n",
       "    <tr style=\"text-align: right;\">\n",
       "      <th></th>\n",
       "      <th>Student Name</th>\n",
       "      <th>Time Submitted</th>\n",
       "    </tr>\n",
       "  </thead>\n",
       "  <tbody>\n",
       "    <tr>\n",
       "      <th>0</th>\n",
       "      <td>Jose Rivera 2</td>\n",
       "      <td>02-05-2023 02:10:17</td>\n",
       "    </tr>\n",
       "    <tr>\n",
       "      <th>1</th>\n",
       "      <td>Jacob Gonzalez</td>\n",
       "      <td>02-07-2023 03:40:26</td>\n",
       "    </tr>\n",
       "    <tr>\n",
       "      <th>2</th>\n",
       "      <td>Paola Garcia 2</td>\n",
       "      <td>02-14-2023 17:40:22</td>\n",
       "    </tr>\n",
       "    <tr>\n",
       "      <th>3</th>\n",
       "      <td>Keyuiona Douglas</td>\n",
       "      <td>02-18-2023 20:10:19</td>\n",
       "    </tr>\n",
       "    <tr>\n",
       "      <th>4</th>\n",
       "      <td>Olivia Garcia</td>\n",
       "      <td>01-31-2023 20:40:17</td>\n",
       "    </tr>\n",
       "    <tr>\n",
       "      <th>5</th>\n",
       "      <td>Varsha Mangtani</td>\n",
       "      <td>01-31-2023 23:00:23</td>\n",
       "    </tr>\n",
       "    <tr>\n",
       "      <th>6</th>\n",
       "      <td>Lizbeth Jaime</td>\n",
       "      <td>01-31-2023 22:30:20</td>\n",
       "    </tr>\n",
       "    <tr>\n",
       "      <th>7</th>\n",
       "      <td>Mia Garcia</td>\n",
       "      <td>03-28-2023 04:10:50</td>\n",
       "    </tr>\n",
       "    <tr>\n",
       "      <th>8</th>\n",
       "      <td>Maxwell Walters</td>\n",
       "      <td>02-01-2023 07:00:19</td>\n",
       "    </tr>\n",
       "  </tbody>\n",
       "</table>\n",
       "</div>"
      ],
      "text/plain": [
       "       Student Name       Time Submitted\n",
       "0     Jose Rivera 2  02-05-2023 02:10:17\n",
       "1    Jacob Gonzalez  02-07-2023 03:40:26\n",
       "2    Paola Garcia 2  02-14-2023 17:40:22\n",
       "3  Keyuiona Douglas  02-18-2023 20:10:19\n",
       "4     Olivia Garcia  01-31-2023 20:40:17\n",
       "5   Varsha Mangtani  01-31-2023 23:00:23\n",
       "6     Lizbeth Jaime  01-31-2023 22:30:20\n",
       "7        Mia Garcia  03-28-2023 04:10:50\n",
       "8   Maxwell Walters  02-01-2023 07:00:19"
      ]
     },
     "execution_count": 7,
     "metadata": {},
     "output_type": "execute_result"
    }
   ],
   "source": []
  },
  {
   "cell_type": "code",
   "execution_count": null,
   "metadata": {},
   "outputs": [],
   "source": []
  }
 ],
 "metadata": {
  "kernelspec": {
   "display_name": "Python 3.9.7 ('base')",
   "language": "python",
   "name": "python3"
  },
  "language_info": {
   "codemirror_mode": {
    "name": "ipython",
    "version": 3
   },
   "file_extension": ".py",
   "mimetype": "text/x-python",
   "name": "python",
   "nbconvert_exporter": "python",
   "pygments_lexer": "ipython3",
   "version": "3.9.12"
  },
  "orig_nbformat": 4,
  "vscode": {
   "interpreter": {
    "hash": "448e7e38fe111f17e868261c037ae6de695e5d1782576b84f995b3ed10243d97"
   }
  }
 },
 "nbformat": 4,
 "nbformat_minor": 2
}
