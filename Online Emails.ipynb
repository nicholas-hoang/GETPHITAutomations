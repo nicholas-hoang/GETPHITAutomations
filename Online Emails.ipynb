{
 "cells": [
  {
   "cell_type": "code",
   "execution_count": 1,
   "metadata": {},
   "outputs": [],
   "source": [
    "# Modules: Email_Parser and PDF_Converter\n",
    "from email.policy import default\n",
    "from email.parser import BytesParser\n",
    "import glob\n",
    "import pdfkit\n",
    "import os\n",
    "from bs4 import BeautifulSoup\n",
    "import datetime \n",
    "from pathlib import Path\n",
    "\n",
    "# Modules: Registration List and Folder Creator\n",
    "import os \n",
    "import pdfquery\n",
    "import pandas as pd\n",
    "\n",
    "# Modules: Folder Creator \n",
    "import os\n",
    "import pandas as pd\n",
    "import numpy as np\n",
    "import shutil\n",
    "import pathlib\n",
    "import xlwings as xw\n"
   ]
  },
  {
   "cell_type": "code",
   "execution_count": 2,
   "metadata": {},
   "outputs": [],
   "source": [
    "# extract_file_url() is a function that takes in a list of .eml files.\n",
    "# It parses the .eml file, extracts the URL from the .eml file\n",
    "# and returns a dictionary with the file name as the key and the URL as the value\n",
    "\n",
    "def extract_file_url(student_file):\n",
    "    student_dict = dict()\n",
    "\n",
    "    # Iterate through the directory of .eml files\n",
    "    for student in student_file:\n",
    "        \n",
    "        with open(student, 'rb') as fp:  \n",
    "            # Parse the email, get the link to the registration form.\n",
    "            rawMessage = BytesParser(policy=default).parse(fp)\n",
    "            soup = BeautifulSoup(rawMessage.get_body(preferencelist=('html')).get_content(), 'html.parser')\n",
    "            registration_link = None\n",
    "            try:\n",
    "                registration_link = soup.find_all('a')[1].get('href')\n",
    "                student_dict[student] = [registration_link]\n",
    "\n",
    "                # Get the time the email was submitted, format the time. \n",
    "                time_submitted = rawMessage['Received'].split(';')[1].strip()\n",
    "                time_submitted = datetime.datetime.strptime(time_submitted, '%a, %d %b %Y %H:%M:%S %z')\n",
    "                time_submitted = time_submitted.strftime('%m-%d-%Y %H:%M:%S')\n",
    "                student_dict[student].append(time_submitted)\n",
    "            \n",
    "            except TypeError:\n",
    "                print(f\"No URL found in {student}\")\n",
    "                continue\n",
    "\n",
    "    return student_dict\n",
    "\n",
    "name = extract_file_url(glob.glob('*.eml'))\n"
   ]
  },
  {
   "cell_type": "code",
   "execution_count": 3,
   "metadata": {},
   "outputs": [
    {
     "name": "stdout",
     "output_type": "stream",
     "text": [
      "Done!\n",
      "A total of 11 pdfs were generated.\n"
     ]
    }
   ],
   "source": [
    "# get_pdf() is a function that takes in a dictionary of student names and their registration form URL.\n",
    "# It uses pdfkit to convert the URL to a PDF and saves the PDF in the same directory as the script.\n",
    "# TODO: Remove the .eml files after the PDFs have been generated.\n",
    "\n",
    "def get_pdf(student_dict):\n",
    "    \n",
    "    count = 0\n",
    "    \n",
    "    options = {'orientation': 'Landscape'}\n",
    "\n",
    "    for key, value in student_dict.items():\n",
    "        out_file = key + '.pdf'\n",
    "        pdfkit.from_url(value, out_file,options = options)\n",
    "        count +=1\n",
    "        \n",
    "    print('Done!')\n",
    "    print(f'A total of {count} pdfs were generated.')\n",
    "\n",
    "get_pdf(name)"
   ]
  },
  {
   "cell_type": "code",
   "execution_count": 4,
   "metadata": {},
   "outputs": [
    {
     "name": "stdout",
     "output_type": "stream",
     "text": [
      "Done!\n",
      "All PDFs have been moved to the Generated PDFs folder.\n"
     ]
    }
   ],
   "source": [
    "def move_pdf():\n",
    "\n",
    "    os.mkdir(\"Generated PDFs\")\n",
    "    for file in glob.glob(\"*.pdf\"):\n",
    "        os.rename(file, \"Generated PDFs/\" + file)\n",
    "    \n",
    "    print('Done!')\n",
    "    print('All PDFs have been moved to the Generated PDFs folder.')\n",
    "\n",
    "\n",
    "move_pdf()\n"
   ]
  },
  {
   "attachments": {},
   "cell_type": "markdown",
   "metadata": {},
   "source": [
    "At this point the following has been created: \n",
    "\n",
    "1) PDFs of Student Applications have been generated and saved locally. \n",
    "2) Information related to applications has been scraped loaded into xlsx file for further processing. \n"
   ]
  }
 ],
 "metadata": {
  "kernelspec": {
   "display_name": "Python 3.9.7 ('base')",
   "language": "python",
   "name": "python3"
  },
  "language_info": {
   "codemirror_mode": {
    "name": "ipython",
    "version": 3
   },
   "file_extension": ".py",
   "mimetype": "text/x-python",
   "name": "python",
   "nbconvert_exporter": "python",
   "pygments_lexer": "ipython3",
   "version": "3.9.12"
  },
  "orig_nbformat": 4,
  "vscode": {
   "interpreter": {
    "hash": "448e7e38fe111f17e868261c037ae6de695e5d1782576b84f995b3ed10243d97"
   }
  }
 },
 "nbformat": 4,
 "nbformat_minor": 2
}
